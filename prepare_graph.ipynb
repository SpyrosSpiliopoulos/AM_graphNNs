{
 "cells": [
  {
   "cell_type": "code",
   "execution_count": 1,
   "metadata": {},
   "outputs": [],
   "source": [
    "import glob\n",
    "import re\n",
    "import json"
   ]
  },
  {
   "cell_type": "code",
   "execution_count": 2,
   "metadata": {},
   "outputs": [],
   "source": [
    "def get_relations(annotation):\n",
    "    graph = {\"nodes\":{}, \"edges\":[]}\n",
    "    relations =  re.findall(\"R[0-9]+\\t.+\",annotation)\n",
    "    for relation in re.findall(\"([^\\s]+) Arg.+:T([0-9]+) Arg.+:T([0-9]+)\",annotation):\n",
    "        Type, T1, T2 = relation\n",
    "        graph[\"edges\"].append((T1,T2,Type))\n",
    "    \n",
    "    for ADU in re.findall(\"T[0-9]+\\t.+\",annotation):\n",
    "        T, Type, startPos, endPos, text = re.findall(\"T([0-9]+)\\t(.+) (.+) (.+)\\t(.+)\",ADU)[0]\n",
    "        graph[\"nodes\"][T]= (Type,int(startPos),int(endPos), ADU)\n",
    "    \n",
    "    MClaims = []\n",
    "    Claims = []\n",
    "    for id, node in graph[\"nodes\"].items():\n",
    "        if node[0] == \"MajorClaim\":\n",
    "            MClaims.append(id)\n",
    "        elif node[0] == \"Claim\":\n",
    "            Claims.append(id)\n",
    "    \n",
    "    for stance in re.findall(\"A[0-9]+\\tStance T([0-9]+) (\\w+)\",annotation):\n",
    "        T, Type = stance\n",
    "        if T in Claims:\n",
    "            for MClaim in MClaims:\n",
    "                graph[\"edges\"].append((T,MClaim,Type))\n",
    "    \n",
    "    for i, MClaim1 in enumerate(MClaims):\n",
    "        for MClaim2 in MClaims[i:]:\n",
    "            graph[\"edges\"].append((MClaim1,MClaim2,\"root\"))\n",
    "        \n",
    "    return graph"
   ]
  },
  {
   "cell_type": "code",
   "execution_count": 3,
   "metadata": {
    "scrolled": true
   },
   "outputs": [],
   "source": [
    "txts = {}\n",
    "anns = {}\n",
    "graphs = {}\n",
    "for txt_file in glob.glob(\"argumentative_essays/*\"):\n",
    "    id_found = re.search(\"[0-9]+\",txt_file)\n",
    "    if id_found:\n",
    "        id = id_found[0]\n",
    "        with open(txt_file) as f:\n",
    "                data = f.read()\n",
    "        if txt_file.endswith(\"txt\"):\n",
    "            txts[id] = data\n",
    "        elif txt_file.endswith(\"ann\"):\n",
    "            anns[id] = data\n",
    "\n",
    "for id, txt in txts.items():\n",
    "    title = txt.split(\"\\n\")[0]\n",
    "    graphs[id] = get_relations(anns[id])\n",
    "\n",
    "#here we make a simplification, we drop every other major claim except one\n",
    "#so that we can end up with a tree structure\n",
    "for id, graph in graphs.items():\n",
    "    MJnodes = []\n",
    "    for nid, node in graph['nodes'].items():\n",
    "        if node[0] == 'MajorClaim':\n",
    "            MJnodes.append(nid)\n",
    "    if len(MJnodes)>1:\n",
    "        MJnodes.pop()\n",
    "        for nid in MJnodes:\n",
    "            del graph['nodes'][nid]\n",
    "        eid = 0\n",
    "        while True:\n",
    "            if eid >= len(graph['edges']):\n",
    "                break\n",
    "            edge = graph['edges'][eid]\n",
    "            if edge[0] in MJnodes or edge[1] in MJnodes:\n",
    "                graph['edges'].pop(eid)\n",
    "                eid-=1\n",
    "            eid+=1\n",
    "            \n",
    "for key, graph in graphs.items():\n",
    "    graph[\"text\"] = txts[key]\n",
    "    graphs[key]=graph"
   ]
  },
  {
   "cell_type": "code",
   "execution_count": 4,
   "metadata": {},
   "outputs": [],
   "source": [
    "with open(\"essay_graphs.json\",\"w\") as f:\n",
    "    json.dump(graphs,f)"
   ]
  }
 ],
 "metadata": {
  "kernelspec": {
   "display_name": "Python 3",
   "language": "python",
   "name": "python3"
  },
  "language_info": {
   "codemirror_mode": {
    "name": "ipython",
    "version": 3
   },
   "file_extension": ".py",
   "mimetype": "text/x-python",
   "name": "python",
   "nbconvert_exporter": "python",
   "pygments_lexer": "ipython3",
   "version": "3.6.8"
  }
 },
 "nbformat": 4,
 "nbformat_minor": 4
}
